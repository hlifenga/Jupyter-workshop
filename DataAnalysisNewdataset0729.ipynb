{
 "cells": [
  {
   "cell_type": "markdown",
   "metadata": {},
   "source": [
    "<p style=\"font-family: Arial; font-size:3.75em;color:purple; font-style:bold\"><br>\n",
    "Data Analysis with Python</p><br>\n",
    "\n",
    "\n",
    "This data approach student achievement in secondary education of two Portuguese schools. The data attributes include student grades, demographic, social and school related features) and it was collected by using school reports and questionnaires. The datasets is provided regarding the performance in Mathematics (mat) and modeled under binary/five-level classification and regression tasks."
   ]
  },
  {
   "cell_type": "markdown",
   "metadata": {},
   "source": [
    "<p style=\"font-family: Arial; font-size:1.75em;color:#2462C0; font-style:bold\">\n",
    "Descriptive statistics</p>\n",
    "<br>\n",
    "*Descriptive statistics* are brief descriptive coefficients that summarize a given data set.\n"
   ]
  },
  {
   "cell_type": "code",
   "execution_count": null,
   "metadata": {
    "collapsed": true
   },
   "outputs": [],
   "source": [
    "import pandas as pd\n",
    "from scipy.stats import chisquare\n",
    "from scipy.stats import chi2_contingency\n",
    "from scipy import stats"
   ]
  },
  {
   "cell_type": "code",
   "execution_count": null,
   "metadata": {},
   "outputs": [],
   "source": [
    "df = pd.read_excel('student data-mat.xlsx', sheetname='Data') \n",
    "# creat a new DataFrame 'df', and use 'ID-code' as index \n",
    "df.head(10) # print the first 10 rows of DataFrame"
   ]
  },
  {
   "cell_type": "code",
   "execution_count": null,
   "metadata": {},
   "outputs": [],
   "source": [
    "print (df['school'].value_counts()) # count the number of student from different schools\n",
    "print ('minimum value:', df['G3'].min()) # minimum value in the column “G3”\n",
    "print ('maximum value:',df['G3'].max()) # maximum value in the column “G3”\n",
    "print ('standard value:',df['G3'].std()) # standard value of the column “G3”\n",
    "print ('mean',df['G3'].mean()) # mean of the column “G3”"
   ]
  },
  {
   "cell_type": "code",
   "execution_count": null,
   "metadata": {},
   "outputs": [],
   "source": [
    "df['G3'].describe()"
   ]
  },
  {
   "cell_type": "code",
   "execution_count": null,
   "metadata": {},
   "outputs": [],
   "source": [
    "df_cor = df.loc[:,['G1','G2','G3']]\n",
    "pd.Series(stats.pearsonr(df_cor['G1'],df_cor['G3']),index=['Coef','p-value'])"
   ]
  },
  {
   "cell_type": "code",
   "execution_count": null,
   "metadata": {},
   "outputs": [],
   "source": [
    "pd.Series(stats.pearsonr(df_cor['G2'],df_cor['G3']),index=['Coef','p-value'])"
   ]
  },
  {
   "cell_type": "code",
   "execution_count": null,
   "metadata": {
    "collapsed": true
   },
   "outputs": [],
   "source": [
    "df_gen = df.loc[:,['gender','G3']]"
   ]
  },
  {
   "cell_type": "code",
   "execution_count": null,
   "metadata": {},
   "outputs": [],
   "source": [
    "\n",
    "df_gen"
   ]
  },
  {
   "cell_type": "code",
   "execution_count": null,
   "metadata": {},
   "outputs": [],
   "source": [
    "df_gen0 = df_gen[df_gen['gender']=='F']['G3'].copy()\n",
    "df_gen0.mean()"
   ]
  },
  {
   "cell_type": "code",
   "execution_count": null,
   "metadata": {},
   "outputs": [],
   "source": [
    "df_gen1 = df_gen[df_gen['gender']=='M']['G3'].copy()\n",
    "df_gen1.mean()"
   ]
  },
  {
   "cell_type": "code",
   "execution_count": null,
   "metadata": {},
   "outputs": [],
   "source": [
    "pd.DataFrame([stats.ttest_ind(df_gen0,df_gen1).statistic,stats.ttest_ind(df_gen1,df_gen0).pvalue], index=['statistic','pvalue'],columns=['G3']).T"
   ]
  },
  {
   "cell_type": "code",
   "execution_count": null,
   "metadata": {
    "collapsed": true,
    "scrolled": true
   },
   "outputs": [],
   "source": [
    "df_chi = df.loc[:,['studytime','goout']]"
   ]
  },
  {
   "cell_type": "code",
   "execution_count": null,
   "metadata": {},
   "outputs": [],
   "source": [
    "df_chi"
   ]
  },
  {
   "cell_type": "code",
   "execution_count": null,
   "metadata": {},
   "outputs": [],
   "source": [
    "ct = pd.crosstab(df_chi['studytime'],df_chi['goout'])\n",
    "ct"
   ]
  },
  {
   "cell_type": "code",
   "execution_count": null,
   "metadata": {
    "collapsed": true
   },
   "outputs": [],
   "source": [
    "chi2,p,dof,ex=chi2_contingency(ct)"
   ]
  },
  {
   "cell_type": "code",
   "execution_count": null,
   "metadata": {},
   "outputs": [],
   "source": [
    "pd.DataFrame([chi2,p,dof],index = ['chi2','pvalue','dof'],columns=['Chi squre result']).T"
   ]
  },
  {
   "cell_type": "code",
   "execution_count": null,
   "metadata": {},
   "outputs": [],
   "source": [
    "df['G3'].value_counts(sort=False) # student distribution of final grade "
   ]
  },
  {
   "cell_type": "markdown",
   "metadata": {},
   "source": [
    "<p style=\"font-family: Arial; font-size:1.75em;color:#2462C0; font-style:bold\">\n",
    "Data Visualization</p>\n",
    "<br>\n",
    "*Data Visualization* plays an important role in data analysis, it provides interactive, visual representations of abstract data to amplify cognition and facilitate understanding."
   ]
  },
  {
   "cell_type": "code",
   "execution_count": null,
   "metadata": {
    "collapsed": true
   },
   "outputs": [],
   "source": [
    "import matplotlib.pyplot as plt # use plt.function_name to call function\n",
    "import numpy as np # numpy is a fundamental package used for scientific computing"
   ]
  },
  {
   "cell_type": "code",
   "execution_count": null,
   "metadata": {
    "collapsed": true
   },
   "outputs": [],
   "source": [
    "df1 = df[df['G3']>=15].copy() # create a new dataframe for group one students\n",
    "df2 = df[df['G3']<15].copy() # create a new dataframe for group two students"
   ]
  },
  {
   "cell_type": "code",
   "execution_count": null,
   "metadata": {
    "collapsed": true
   },
   "outputs": [],
   "source": [
    "df1['G3'].value_counts(sort=False)"
   ]
  },
  {
   "cell_type": "code",
   "execution_count": null,
   "metadata": {
    "collapsed": true
   },
   "outputs": [],
   "source": [
    "df2['G3'].value_counts(sort=False)"
   ]
  },
  {
   "cell_type": "code",
   "execution_count": null,
   "metadata": {
    "collapsed": true
   },
   "outputs": [],
   "source": [
    "plt.scatter(df1['G1'],df1['G2'],c='r',alpha=0.4, label='Final Grade >=15')\n",
    "plt.scatter(df2['G1'],df2['G2'],c='b',alpha=0.4, label='Final Grade <15')\n",
    "plt.xlabel('First Period Grade')\n",
    "plt.ylabel('Second Period Grade')\n",
    "plt.legend()\n",
    "plt.show()"
   ]
  },
  {
   "cell_type": "code",
   "execution_count": null,
   "metadata": {
    "collapsed": true
   },
   "outputs": [],
   "source": [
    "df1['studytime'].value_counts(sort=False)"
   ]
  },
  {
   "cell_type": "code",
   "execution_count": null,
   "metadata": {
    "collapsed": true
   },
   "outputs": [],
   "source": [
    "bin_labels = ['<2hours','2 to 5 hours','5 to 10 hours','>10 hours'] # Bins setting\n",
    "data_bar1 = pd.cut(df1['studytime'], [0,1,2,3,4], labels=bin_labels).copy() # create a series and replace 'Total activity' with bin label\n",
    "data_bar2 = pd.cut(df2['studytime'], [0,1,2,3,4], labels=bin_labels).copy() # same as above"
   ]
  },
  {
   "cell_type": "code",
   "execution_count": null,
   "metadata": {
    "collapsed": true
   },
   "outputs": [],
   "source": [
    "data_bar1.value_counts(sort=False) # check the distribution of group one"
   ]
  },
  {
   "cell_type": "code",
   "execution_count": null,
   "metadata": {
    "collapsed": true
   },
   "outputs": [],
   "source": [
    "data_bar2.value_counts(sort=False) # check the distribution of group two"
   ]
  },
  {
   "cell_type": "code",
   "execution_count": null,
   "metadata": {
    "collapsed": true
   },
   "outputs": [],
   "source": [
    "X=np.arange(4)+1 # 4 categories\n",
    "plt.bar(X, height=data_bar1.value_counts(sort=False),width=0.35,color='r',label='Final Grade >=15')\n",
    "plt.bar(X+0.35, height=data_bar2.value_counts(sort=False),width=0.35,color='b',label='Final Grade <15')\n",
    "plt.xticks(X+0.17,bin_labels) # set labels of x axis\n",
    "plt.xlabel('Study Time')\n",
    "plt.ylabel('Number of student')\n",
    "plt.legend()\n",
    "plt.show()"
   ]
  },
  {
   "cell_type": "code",
   "execution_count": null,
   "metadata": {
    "collapsed": true
   },
   "outputs": [],
   "source": [
    "pie_labels = ['none','primary education (4th grade)','5th to 9th grade','secondary education', 'higher education']\n",
    "fig1 = plt.figure(figsize=(30,30))\n",
    "ax1_1 = fig1.add_subplot(1,2,1)\n",
    "ax1_2 = fig1.add_subplot(1,2,2)\n",
    "ax1_1.pie(df1['Medu'].value_counts(sort=False),labels=pie_labels,labeldistance=1.05,autopct='%1.1f%%',pctdistance=0.85,startangle=90)\n",
    "ax1_1.axis('equal')\n",
    "ax1_2.pie(df2['Medu'].value_counts(sort=False),labels=pie_labels,labeldistance=1.05,autopct='%1.1f%%',pctdistance=0.85,startangle=90)\n",
    "ax1_2.axis('equal')\n",
    "\n",
    "ax1_1.set_title('mother\\'s education of group one student')\n",
    "ax1_2.set_title('mother\\'s education of group two student')\n",
    "plt.rcParams['font.size']=25\n",
    "plt.show()"
   ]
  },
  {
   "cell_type": "code",
   "execution_count": null,
   "metadata": {
    "collapsed": true
   },
   "outputs": [],
   "source": [
    "fig2 = plt.figure(figsize=(30,30))\n",
    "ax2_1 = fig2.add_subplot(2,1,1)\n",
    "ax2_2 = fig2.add_subplot(2,1,2)\n",
    "ax2_1.pie(df1['Fedu'].value_counts(sort=False),labels=pie_labels,labeldistance=1.05,autopct='%1.1f%%',pctdistance=0.85,startangle=90)\n",
    "ax2_1.axis('equal')\n",
    "ax2_2.pie(df2['Fedu'].value_counts(sort=False),labels=pie_labels,labeldistance=1.05,autopct='%1.1f%%',pctdistance=0.85,startangle=90)\n",
    "ax2_2.axis('equal')\n",
    "\n",
    "ax2_1.set_title('father\\'s education of group one student')\n",
    "ax2_2.set_title('father\\'s education of group two student')\n",
    "plt.rcParams['font.size']=25\n",
    "plt.show()"
   ]
  },
  {
   "cell_type": "markdown",
   "metadata": {},
   "source": [
    "<p style=\"font-family: Arial; font-size:1.75em;color:#2462C0; font-style:bold\">\n",
    "Data analysis with machine learning</p>\n",
    "<br>\n",
    "*Machine learning* is a subfield of artificial intelligence that explores how machines can learn from data to analyze structures, help with decisions, and make predictions. In this section, we will try to predict the performance group of a student (group one or group two) with the attributes collected. "
   ]
  },
  {
   "cell_type": "code",
   "execution_count": null,
   "metadata": {
    "collapsed": true
   },
   "outputs": [],
   "source": [
    "from sklearn.metrics import accuracy_score\n",
    "from sklearn.model_selection import train_test_split\n",
    "from sklearn.svm import LinearSVC\n",
    "# import the libraries will be used"
   ]
  },
  {
   "cell_type": "code",
   "execution_count": null,
   "metadata": {
    "collapsed": true
   },
   "outputs": [],
   "source": [
    "df['group'] = pd.cut(df['G3'], [-1,14,20],labels=['Two','One'],right=True).copy() # create a series and replace 'Total activity' with bin label\n",
    "df['group'] = df['group'].astype(str)\n",
    "df.head(5)"
   ]
  },
  {
   "cell_type": "code",
   "execution_count": null,
   "metadata": {
    "collapsed": true
   },
   "outputs": [],
   "source": [
    "#features_c =['studytime','failures','schoolsup','famsup','paid','romantic','famrel','freetime','activities','goout','G1','G2']\n",
    "X = df.loc[:,'school':'absences'].copy()\n",
    "X.replace(['no','yes'],[0,1],inplace=True)\n",
    "X.replace(['GP','MS'],[0,1],inplace=True)\n",
    "X.replace(['F','M'],[0,1],inplace=True)\n",
    "X.replace(['U','R'],[0,1],inplace=True)\n",
    "X.replace(['LE3','GT3'],[0,1],inplace=True)\n",
    "X.replace(['A','T'],[0,1],inplace=True)\n",
    "X['Mjob'].replace(['other','at_home','services','health','teacher'],[1,2,3,4,5],inplace=True)\n",
    "X['Fjob'].replace(['other','at_home','services','health','teacher'],[1,2,3,4,5],inplace=True)\n",
    "X['reason'].replace(['home','reputation','course','other'],[1,2,3,4],inplace=True)\n",
    "X['guardian'].replace(['mother','father','other'],[1,2,3],inplace=True)\n",
    "#X = X.join(df.loc[:,'Medu':'Fedu'])\n",
    "y = df['group'].copy()\n",
    "X_train, X_test, y_train, y_test = train_test_split(X, y, test_size=0.33,random_state=0)\n",
    "y_train.value_counts()"
   ]
  },
  {
   "cell_type": "code",
   "execution_count": null,
   "metadata": {
    "collapsed": true
   },
   "outputs": [],
   "source": [
    "y_test.value_counts()"
   ]
  },
  {
   "cell_type": "code",
   "execution_count": null,
   "metadata": {
    "collapsed": true
   },
   "outputs": [],
   "source": [
    "clf = LinearSVC(random_state=0)\n",
    "clf.fit(X_train, y_train)"
   ]
  },
  {
   "cell_type": "code",
   "execution_count": null,
   "metadata": {
    "collapsed": true
   },
   "outputs": [],
   "source": [
    "predictions = clf.predict(X_test)\n",
    "predictions = pd.Series(predictions, index=y_test.index)\n",
    "predictions"
   ]
  },
  {
   "cell_type": "code",
   "execution_count": null,
   "metadata": {
    "collapsed": true
   },
   "outputs": [],
   "source": [
    "predictions.value_counts()"
   ]
  },
  {
   "cell_type": "code",
   "execution_count": null,
   "metadata": {
    "collapsed": true
   },
   "outputs": [],
   "source": [
    "accuracy_score(y_true = y_test, y_pred = predictions)# Caculate the accuracy by accuracy_score function"
   ]
  },
  {
   "cell_type": "code",
   "execution_count": null,
   "metadata": {
    "collapsed": true
   },
   "outputs": [],
   "source": [
    "from sklearn.feature_selection import SelectFromModel"
   ]
  },
  {
   "cell_type": "code",
   "execution_count": null,
   "metadata": {
    "collapsed": true
   },
   "outputs": [],
   "source": [
    "coef = pd.DataFrame(clf.coef_,index=['coef'],columns=X.columns) # get weights assigned to the features of the linearSVC model\n",
    "coef.T"
   ]
  },
  {
   "cell_type": "code",
   "execution_count": null,
   "metadata": {
    "collapsed": true
   },
   "outputs": [],
   "source": [
    "abs(coef).T.mean()"
   ]
  },
  {
   "cell_type": "code",
   "execution_count": null,
   "metadata": {
    "collapsed": true
   },
   "outputs": [],
   "source": [
    "abs(coef).T.sort_values('coef',ascending=False)"
   ]
  },
  {
   "cell_type": "code",
   "execution_count": null,
   "metadata": {
    "collapsed": true
   },
   "outputs": [],
   "source": [
    "clf_new = LinearSVC(random_state=0)\n",
    "sfm = SelectFromModel(clf_new,threshold='median') # feature selector setting\n",
    "sfm.fit(X_train, y_train)\n",
    "X_transform = sfm.transform(X_train)"
   ]
  },
  {
   "cell_type": "code",
   "execution_count": null,
   "metadata": {
    "collapsed": true
   },
   "outputs": [],
   "source": [
    "selected_result =pd.Series(sfm.get_support(), index=X_train.columns)"
   ]
  },
  {
   "cell_type": "code",
   "execution_count": null,
   "metadata": {
    "collapsed": true
   },
   "outputs": [],
   "source": [
    "selected_result"
   ]
  },
  {
   "cell_type": "code",
   "execution_count": null,
   "metadata": {
    "collapsed": true,
    "scrolled": false
   },
   "outputs": [],
   "source": [
    "selected_result[selected_result==True] # Keep the feature name with True value only"
   ]
  },
  {
   "cell_type": "code",
   "execution_count": null,
   "metadata": {
    "collapsed": true
   },
   "outputs": [],
   "source": [
    "selected_features = selected_result[selected_result==True].index\n",
    "selected_features "
   ]
  },
  {
   "cell_type": "code",
   "execution_count": null,
   "metadata": {
    "collapsed": true
   },
   "outputs": [],
   "source": [
    "clf_new.fit(X_transform, y_train) # train a new classifier with transformed training data set"
   ]
  },
  {
   "cell_type": "code",
   "execution_count": null,
   "metadata": {
    "collapsed": true
   },
   "outputs": [],
   "source": [
    "predictions_new = clf_new.predict(X_test[selected_features])\n",
    "predictions_new = pd.Series(predictions_new, index=y_test.index)\n",
    "predictions_new"
   ]
  },
  {
   "cell_type": "code",
   "execution_count": null,
   "metadata": {
    "collapsed": true
   },
   "outputs": [],
   "source": [
    "accuracy_score(y_true = y_test, y_pred = predictions_new)"
   ]
  },
  {
   "cell_type": "code",
   "execution_count": null,
   "metadata": {
    "collapsed": true
   },
   "outputs": [],
   "source": [
    "from sklearn.cluster import KMeans\n",
    "from sklearn.cluster import AffinityPropagation # import the algorithms will be used"
   ]
  },
  {
   "cell_type": "code",
   "execution_count": null,
   "metadata": {
    "collapsed": true
   },
   "outputs": [],
   "source": [
    "features_c =['studytime','failures','schoolsup','famsup','paid','romantic','famrel','freetime','activities','goout','absences','G1','G2']\n",
    "X_c = df[features_c].copy()\n",
    "X_c.replace(['no','yes'],[0,1],inplace=True)\n"
   ]
  },
  {
   "cell_type": "code",
   "execution_count": null,
   "metadata": {
    "collapsed": true
   },
   "outputs": [],
   "source": [
    "X_c.head() # check the inputs"
   ]
  },
  {
   "cell_type": "code",
   "execution_count": null,
   "metadata": {
    "collapsed": true
   },
   "outputs": [],
   "source": [
    "km = KMeans(n_clusters=8,algorithm=\"full\",random_state=0).fit(X_c)\n",
    "af = AffinityPropagation().fit(X_c) # clustering"
   ]
  },
  {
   "cell_type": "code",
   "execution_count": null,
   "metadata": {
    "collapsed": true
   },
   "outputs": [],
   "source": [
    "df['kmlabel']=km.labels_\n",
    "df['aflabel']=af.labels_\n",
    "df.head() # store the labels acquired from clustering and check"
   ]
  },
  {
   "cell_type": "code",
   "execution_count": null,
   "metadata": {
    "collapsed": true
   },
   "outputs": [],
   "source": [
    "df['G3'].groupby(df['kmlabel']).mean() # calculate the means of K-means clusters"
   ]
  },
  {
   "cell_type": "code",
   "execution_count": null,
   "metadata": {
    "collapsed": true
   },
   "outputs": [],
   "source": [
    "km_centers=pd.DataFrame(km.cluster_centers_,columns=X_c.columns)\n",
    "km_centers.round(2)"
   ]
  },
  {
   "cell_type": "code",
   "execution_count": null,
   "metadata": {
    "collapsed": true
   },
   "outputs": [],
   "source": [
    "df['group'].groupby(df['kmlabel']).value_counts(sort=False) # find out how many group one and group two students in each cluster "
   ]
  },
  {
   "cell_type": "code",
   "execution_count": null,
   "metadata": {
    "collapsed": true
   },
   "outputs": [],
   "source": [
    "mean_c = df['column name of G3'].groupby(df['column name of af label']).mean()\n",
    "mean_c.round(2) # please fill the column name above to show the mean of each af clusters "
   ]
  },
  {
   "cell_type": "code",
   "execution_count": null,
   "metadata": {
    "collapsed": true
   },
   "outputs": [],
   "source": [
    "pd.DataFrame(af.cluster_centers_,columns=X_c.columns) # show the exemplars"
   ]
  },
  {
   "cell_type": "code",
   "execution_count": null,
   "metadata": {
    "collapsed": true
   },
   "outputs": [],
   "source": [
    "af.cluster_centers_indices_ # show the index of the exemplars"
   ]
  },
  {
   "cell_type": "code",
   "execution_count": null,
   "metadata": {
    "collapsed": true
   },
   "outputs": [],
   "source": [
    "df['column name of af label'].value_counts(sort=False)"
   ]
  },
  {
   "cell_type": "code",
   "execution_count": null,
   "metadata": {
    "collapsed": true
   },
   "outputs": [],
   "source": [
    "df['column name of af group'].groupby(df['column name of af label']).value_counts(sort=False)"
   ]
  }
 ],
 "metadata": {
  "anaconda-cloud": {},
  "kernelspec": {
   "display_name": "Python 3",
   "language": "python",
   "name": "python3"
  },
  "language_info": {
   "codemirror_mode": {
    "name": "ipython",
    "version": 3
   },
   "file_extension": ".py",
   "mimetype": "text/x-python",
   "name": "python",
   "nbconvert_exporter": "python",
   "pygments_lexer": "ipython3",
   "version": "3.6.1"
  }
 },
 "nbformat": 4,
 "nbformat_minor": 2
}
